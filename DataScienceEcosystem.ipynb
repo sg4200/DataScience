{
 "cells": [
  {
   "cell_type": "markdown",
   "id": "c955abc3-5f9b-42fc-be2f-95095d206e94",
   "metadata": {},
   "source": [
    "# H1: Data Science Tools and Ecosystem"
   ]
  },
  {
   "cell_type": "markdown",
   "id": "af04bc1f-ed32-45c8-b4b9-c89f5d5d5c04",
   "metadata": {},
   "source": [
    "# In this notebook, Data Science Tools and Ecosystem are summarized."
   ]
  },
  {
   "cell_type": "markdown",
   "id": "ee5cb5d3-b39d-4467-8f7a-bb2e1b0a1986",
   "metadata": {},
   "source": [
    "__Objectives:__"
   ]
  },
  {
   "cell_type": "markdown",
   "id": "86d8b432-0deb-49e0-ac5d-69faf91501fe",
   "metadata": {},
   "source": [
    "#Some of the popular languages that Data Scientists use are:"
   ]
  },
  {
   "cell_type": "markdown",
   "id": "7b544be4-a275-42fd-bd2b-e8f430aa9136",
   "metadata": {},
   "source": [
    "- Python\n",
    "- C++\n",
    "- C\n",
    "- Java"
   ]
  },
  {
   "cell_type": "markdown",
   "id": "4e58287a-8dc5-4f0e-b7f0-34ff8ce061a4",
   "metadata": {},
   "source": [
    "# Some of the commonly used libraries used by Data Scientist include:\n",
    "- Pandas\n",
    "- NumPy\n",
    "- Matplotlib\n",
    "- Seaborn"
   ]
  },
  {
   "cell_type": "markdown",
   "id": "1eb3d85c-b41c-4e6a-878d-f5a39faa3b40",
   "metadata": {},
   "source": [
    "|Data Science Tools | \n",
    "| ------------------| \n",
    "| TensorFlow        | \n",
    "| Apache SparkML    |\n",
    "| scikit learn      |"
   ]
  },
  {
   "cell_type": "markdown",
   "id": "219fb939-b5be-4e02-aa86-50c78d0904cc",
   "metadata": {},
   "source": [
    "### H3: Below are a few examples of evaluating arithmetic expressions in Python"
   ]
  },
  {
   "cell_type": "code",
   "execution_count": 1,
   "id": "3314556a-9454-4184-9409-341e92374d94",
   "metadata": {
    "tags": []
   },
   "outputs": [
    {
     "data": {
      "text/plain": [
       "2"
      ]
     },
     "execution_count": 1,
     "metadata": {},
     "output_type": "execute_result"
    }
   ],
   "source": [
    "1+1"
   ]
  },
  {
   "cell_type": "code",
   "execution_count": 2,
   "id": "091bb116-5566-4dd5-9d6b-dcbb4776ed08",
   "metadata": {
    "tags": []
   },
   "outputs": [
    {
     "data": {
      "text/plain": [
       "4"
      ]
     },
     "execution_count": 2,
     "metadata": {},
     "output_type": "execute_result"
    }
   ],
   "source": [
    "2*2"
   ]
  },
  {
   "cell_type": "code",
   "execution_count": 3,
   "id": "30387c18-5cd2-4cb8-aa48-89f821f420c6",
   "metadata": {
    "tags": []
   },
   "outputs": [
    {
     "data": {
      "text/plain": [
       "17"
      ]
     },
     "execution_count": 3,
     "metadata": {},
     "output_type": "execute_result"
    }
   ],
   "source": [
    "# This is a simple arithmetic expression to multiply then add integers\n",
    "(3*4)+5"
   ]
  },
  {
   "cell_type": "code",
   "execution_count": 4,
   "id": "b25beebc-a230-447b-b260-cdda35c91a31",
   "metadata": {
    "tags": []
   },
   "outputs": [
    {
     "data": {
      "text/plain": [
       "3.3333333333333335"
      ]
     },
     "execution_count": 4,
     "metadata": {},
     "output_type": "execute_result"
    }
   ],
   "source": [
    "# This will convert 200 minutes to hours by diving by 60.\n",
    "200/60"
   ]
  },
  {
   "cell_type": "markdown",
   "id": "afad3e84-0d2b-4207-9ba8-d477bed19677",
   "metadata": {},
   "source": [
    "## H2: Author\n",
    "\"Shau Grossman\""
   ]
  },
  {
   "cell_type": "code",
   "execution_count": null,
   "id": "a3a0925b-cdd4-4cbd-bb25-bc5361f4c070",
   "metadata": {},
   "outputs": [],
   "source": []
  }
 ],
 "metadata": {
  "kernelspec": {
   "display_name": "Python",
   "language": "python",
   "name": "conda-env-python-py"
  },
  "language_info": {
   "codemirror_mode": {
    "name": "ipython",
    "version": 3
   },
   "file_extension": ".py",
   "mimetype": "text/x-python",
   "name": "python",
   "nbconvert_exporter": "python",
   "pygments_lexer": "ipython3",
   "version": "3.7.12"
  }
 },
 "nbformat": 4,
 "nbformat_minor": 5
}
